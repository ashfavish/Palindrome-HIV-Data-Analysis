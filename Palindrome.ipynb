{
 "cells": [
  {
   "cell_type": "markdown",
   "metadata": {},
   "source": [
    "# Preperation"
   ]
  },
  {
   "cell_type": "markdown",
   "metadata": {},
   "source": [
    "## Import Packages"
   ]
  },
  {
   "cell_type": "code",
   "execution_count": 1,
   "metadata": {},
   "outputs": [],
   "source": [
    "#ImportPackages\n",
    "import pandas as pd\n",
    "import numpy as np\n",
    "import matplotlib.pyplot as plt\n",
    "import seaborn as sns\n",
    "import re\n",
    "import warnings \n",
    "#Display Settings\n",
    "warnings.filterwarnings('ignore')\n",
    "pd.set_option('display.float_format', lambda x: '%0f' % x)\n",
    "#Plotting Settings\n",
    "plt.style.use('fivethirtyeight')"
   ]
  },
  {
   "cell_type": "markdown",
   "metadata": {},
   "source": [
    "## Read Data"
   ]
  },
  {
   "cell_type": "code",
   "execution_count": 2,
   "metadata": {
    "scrolled": true
   },
   "outputs": [
    {
     "data": {
      "text/html": [
       "<div>\n",
       "<style scoped>\n",
       "    .dataframe tbody tr th:only-of-type {\n",
       "        vertical-align: middle;\n",
       "    }\n",
       "\n",
       "    .dataframe tbody tr th {\n",
       "        vertical-align: top;\n",
       "    }\n",
       "\n",
       "    .dataframe thead th {\n",
       "        text-align: right;\n",
       "    }\n",
       "</style>\n",
       "<table border=\"1\" class=\"dataframe\">\n",
       "  <thead>\n",
       "    <tr style=\"text-align: right;\">\n",
       "      <th></th>\n",
       "      <th>District</th>\n",
       "      <th>Code</th>\n",
       "      <th>Estimate</th>\n",
       "      <th>Prevalence_%</th>\n",
       "      <th>Prevalence_LCL</th>\n",
       "      <th>Prevalence_UCL</th>\n",
       "      <th>NoPLHIV</th>\n",
       "      <th>NoPLHIV_LCL</th>\n",
       "      <th>NoPLHIV_UCL</th>\n",
       "    </tr>\n",
       "  </thead>\n",
       "  <tbody>\n",
       "    <tr>\n",
       "      <th>0</th>\n",
       "      <td>Buffalo City</td>\n",
       "      <td>BUF</td>\n",
       "      <td>Survey</td>\n",
       "      <td>13.600000</td>\n",
       "      <td>10.268000</td>\n",
       "      <td>16.932000</td>\n",
       "      <td>102437</td>\n",
       "      <td>77340</td>\n",
       "      <td>127534</td>\n",
       "    </tr>\n",
       "    <tr>\n",
       "      <th>1</th>\n",
       "      <td>Buffalo City</td>\n",
       "      <td>BUF</td>\n",
       "      <td>Fay-Heriott</td>\n",
       "      <td>13.501283</td>\n",
       "      <td>11.031605</td>\n",
       "      <td>16.421802</td>\n",
       "      <td>101693</td>\n",
       "      <td>83092</td>\n",
       "      <td>123691</td>\n",
       "    </tr>\n",
       "    <tr>\n",
       "      <th>2</th>\n",
       "      <td>City of Cape Town</td>\n",
       "      <td>CPT</td>\n",
       "      <td>Survey</td>\n",
       "      <td>5.200000</td>\n",
       "      <td>3.044000</td>\n",
       "      <td>7.356000</td>\n",
       "      <td>200751</td>\n",
       "      <td>117517</td>\n",
       "      <td>283985</td>\n",
       "    </tr>\n",
       "    <tr>\n",
       "      <th>3</th>\n",
       "      <td>City of Cape Town</td>\n",
       "      <td>CPT</td>\n",
       "      <td>Fay-Heriott</td>\n",
       "      <td>6.020043</td>\n",
       "      <td>4.335072</td>\n",
       "      <td>8.303091</td>\n",
       "      <td>232409</td>\n",
       "      <td>167359</td>\n",
       "      <td>320548</td>\n",
       "    </tr>\n",
       "    <tr>\n",
       "      <th>4</th>\n",
       "      <td>West Coast</td>\n",
       "      <td>DC1</td>\n",
       "      <td>Survey</td>\n",
       "      <td>2.700000</td>\n",
       "      <td>0.000000</td>\n",
       "      <td>5.444000</td>\n",
       "      <td>11302</td>\n",
       "      <td>0</td>\n",
       "      <td>22789</td>\n",
       "    </tr>\n",
       "  </tbody>\n",
       "</table>\n",
       "</div>"
      ],
      "text/plain": [
       "            District Code     Estimate  Prevalence_%  Prevalence_LCL  \\\n",
       "0       Buffalo City  BUF       Survey     13.600000       10.268000   \n",
       "1       Buffalo City  BUF  Fay-Heriott     13.501283       11.031605   \n",
       "2  City of Cape Town  CPT       Survey      5.200000        3.044000   \n",
       "3  City of Cape Town  CPT  Fay-Heriott      6.020043        4.335072   \n",
       "4         West Coast  DC1       Survey      2.700000        0.000000   \n",
       "\n",
       "   Prevalence_UCL  NoPLHIV  NoPLHIV_LCL  NoPLHIV_UCL  \n",
       "0       16.932000   102437        77340       127534  \n",
       "1       16.421802   101693        83092       123691  \n",
       "2        7.356000   200751       117517       283985  \n",
       "3        8.303091   232409       167359       320548  \n",
       "4        5.444000    11302            0        22789  "
      ]
     },
     "execution_count": 2,
     "metadata": {},
     "output_type": "execute_result"
    }
   ],
   "source": [
    "#Read in Data -first row has info about dataset so this will be skipped\n",
    "data = pd.read_excel('pone.0212445.s004.xlsx',skiprows=1)\n",
    "data.head()"
   ]
  },
  {
   "cell_type": "markdown",
   "metadata": {},
   "source": [
    "## Brief Data Understanding"
   ]
  },
  {
   "cell_type": "code",
   "execution_count": 3,
   "metadata": {
    "scrolled": true
   },
   "outputs": [
    {
     "data": {
      "text/html": [
       "<div>\n",
       "<style scoped>\n",
       "    .dataframe tbody tr th:only-of-type {\n",
       "        vertical-align: middle;\n",
       "    }\n",
       "\n",
       "    .dataframe tbody tr th {\n",
       "        vertical-align: top;\n",
       "    }\n",
       "\n",
       "    .dataframe thead th {\n",
       "        text-align: right;\n",
       "    }\n",
       "</style>\n",
       "<table border=\"1\" class=\"dataframe\">\n",
       "  <thead>\n",
       "    <tr style=\"text-align: right;\">\n",
       "      <th></th>\n",
       "      <th>Prevalence_%</th>\n",
       "      <th>Prevalence_LCL</th>\n",
       "      <th>Prevalence_UCL</th>\n",
       "      <th>NoPLHIV</th>\n",
       "      <th>NoPLHIV_LCL</th>\n",
       "      <th>NoPLHIV_UCL</th>\n",
       "    </tr>\n",
       "  </thead>\n",
       "  <tbody>\n",
       "    <tr>\n",
       "      <th>count</th>\n",
       "      <td>104.000000</td>\n",
       "      <td>104.000000</td>\n",
       "      <td>104.000000</td>\n",
       "      <td>104.000000</td>\n",
       "      <td>104.000000</td>\n",
       "      <td>104.000000</td>\n",
       "    </tr>\n",
       "    <tr>\n",
       "      <th>mean</th>\n",
       "      <td>12.113805</td>\n",
       "      <td>8.507655</td>\n",
       "      <td>16.142182</td>\n",
       "      <td>123914.230769</td>\n",
       "      <td>89210.009615</td>\n",
       "      <td>162458.317308</td>\n",
       "    </tr>\n",
       "    <tr>\n",
       "      <th>std</th>\n",
       "      <td>4.978586</td>\n",
       "      <td>4.635330</td>\n",
       "      <td>6.055076</td>\n",
       "      <td>115469.372356</td>\n",
       "      <td>89791.909524</td>\n",
       "      <td>145761.963447</td>\n",
       "    </tr>\n",
       "    <tr>\n",
       "      <th>min</th>\n",
       "      <td>1.584032</td>\n",
       "      <td>0.000000</td>\n",
       "      <td>2.998406</td>\n",
       "      <td>1876.000000</td>\n",
       "      <td>0.000000</td>\n",
       "      <td>3552.000000</td>\n",
       "    </tr>\n",
       "    <tr>\n",
       "      <th>25%</th>\n",
       "      <td>8.869829</td>\n",
       "      <td>4.911882</td>\n",
       "      <td>12.301325</td>\n",
       "      <td>46667.500000</td>\n",
       "      <td>28057.750000</td>\n",
       "      <td>68507.750000</td>\n",
       "    </tr>\n",
       "    <tr>\n",
       "      <th>50%</th>\n",
       "      <td>11.750000</td>\n",
       "      <td>8.165653</td>\n",
       "      <td>15.935119</td>\n",
       "      <td>99751.500000</td>\n",
       "      <td>69407.500000</td>\n",
       "      <td>136812.000000</td>\n",
       "    </tr>\n",
       "    <tr>\n",
       "      <th>75%</th>\n",
       "      <td>15.718785</td>\n",
       "      <td>11.617805</td>\n",
       "      <td>19.378361</td>\n",
       "      <td>146335.500000</td>\n",
       "      <td>115101.250000</td>\n",
       "      <td>181302.250000</td>\n",
       "    </tr>\n",
       "    <tr>\n",
       "      <th>max</th>\n",
       "      <td>25.000000</td>\n",
       "      <td>18.218028</td>\n",
       "      <td>40.945994</td>\n",
       "      <td>515387.000000</td>\n",
       "      <td>408472.000000</td>\n",
       "      <td>660996.000000</td>\n",
       "    </tr>\n",
       "  </tbody>\n",
       "</table>\n",
       "</div>"
      ],
      "text/plain": [
       "       Prevalence_%  Prevalence_LCL  Prevalence_UCL       NoPLHIV  \\\n",
       "count    104.000000      104.000000      104.000000    104.000000   \n",
       "mean      12.113805        8.507655       16.142182 123914.230769   \n",
       "std        4.978586        4.635330        6.055076 115469.372356   \n",
       "min        1.584032        0.000000        2.998406   1876.000000   \n",
       "25%        8.869829        4.911882       12.301325  46667.500000   \n",
       "50%       11.750000        8.165653       15.935119  99751.500000   \n",
       "75%       15.718785       11.617805       19.378361 146335.500000   \n",
       "max       25.000000       18.218028       40.945994 515387.000000   \n",
       "\n",
       "        NoPLHIV_LCL   NoPLHIV_UCL  \n",
       "count    104.000000    104.000000  \n",
       "mean   89210.009615 162458.317308  \n",
       "std    89791.909524 145761.963447  \n",
       "min        0.000000   3552.000000  \n",
       "25%    28057.750000  68507.750000  \n",
       "50%    69407.500000 136812.000000  \n",
       "75%   115101.250000 181302.250000  \n",
       "max   408472.000000 660996.000000  "
      ]
     },
     "execution_count": 3,
     "metadata": {},
     "output_type": "execute_result"
    }
   ],
   "source": [
    "#General Stats\n",
    "data.describe()"
   ]
  },
  {
   "cell_type": "markdown",
   "metadata": {},
   "source": [
    "Average Prevalence of HIV in SA is around 12%    \n",
    "\n",
    "There are 104 rows in the data - as there are 2 estimates per district, that meas 52 districts are included\n"
   ]
  },
  {
   "cell_type": "code",
   "execution_count": 4,
   "metadata": {},
   "outputs": [
    {
     "data": {
      "text/plain": [
       "District          0\n",
       "Code              0\n",
       "Estimate          0\n",
       "Prevalence_%      0\n",
       "Prevalence_LCL    0\n",
       "Prevalence_UCL    0\n",
       "NoPLHIV           0\n",
       "NoPLHIV_LCL       0\n",
       "NoPLHIV_UCL       0\n",
       "dtype: int64"
      ]
     },
     "execution_count": 4,
     "metadata": {},
     "output_type": "execute_result"
    }
   ],
   "source": [
    "# Check for missing data\n",
    "data.isna().sum()"
   ]
  },
  {
   "cell_type": "markdown",
   "metadata": {},
   "source": [
    "There is no missing data"
   ]
  },
  {
   "cell_type": "markdown",
   "metadata": {},
   "source": [
    "# Required Questions"
   ]
  },
  {
   "cell_type": "markdown",
   "metadata": {},
   "source": [
    "What is the total number of people living with HIV (NoPLHIV) in the listed districts according to the Survey estimate?"
   ]
  },
  {
   "cell_type": "code",
   "execution_count": 5,
   "metadata": {},
   "outputs": [
    {
     "name": "stdout",
     "output_type": "stream",
     "text": [
      "The total number of people living with HIV according to the survey estimate is 6,409,903\n",
      "with the lower estimate being 4,235,478 and the higher estimate being 8,589,210 \n",
      "at a 95% confidence level\n"
     ]
    }
   ],
   "source": [
    "#Filter Data for for Survey Estimates and sum NoPLHIV for mean, lcl and ucl levels\n",
    "total_num_with_HIV= data[data.Estimate =='Survey']['NoPLHIV'].sum()\n",
    "total_num_with_HIV_LCL= data[data.Estimate =='Survey']['NoPLHIV_LCL'].sum()\n",
    "total_num_with_HIV_UCL= data[data.Estimate =='Survey']['NoPLHIV_UCL'].sum()\n",
    "print(f'''The total number of people living with HIV according to the survey estimate is {total_num_with_HIV:,}\n",
    "with the lower estimate being {total_num_with_HIV_LCL:,} and the higher estimate being {total_num_with_HIV_UCL:,} \n",
    "at a 95% confidence level''')"
   ]
  },
  {
   "cell_type": "markdown",
   "metadata": {},
   "source": [
    "What is the average NoPLHIV of the two estimates used for “Xhariep”?"
   ]
  },
  {
   "cell_type": "code",
   "execution_count": 6,
   "metadata": {},
   "outputs": [
    {
     "name": "stdout",
     "output_type": "stream",
     "text": [
      "The average estimate of people living with HIV in the district Xhariep based on the Survey \n",
      "Estimates and the Fay-Herriot methodology is 12,247.5. Looking from a 95% confidence level,\n",
      "the average should be between 9,458.5 and 15,310.0\n"
     ]
    }
   ],
   "source": [
    "#Filter Data for for Xhariep and average NoPLHIV for mean, lcl and ucl levels for both Survey and Fay-Heriott Methodology\n",
    "ave_Xhariep =data[data.District == 'Xhariep']['NoPLHIV'].mean()\n",
    "ave_Xhariep_LCL =data[data.District == 'Xhariep']['NoPLHIV_LCL'].mean()\n",
    "ave_Xhariep_UCL =data[data.District == 'Xhariep']['NoPLHIV_UCL'].mean()\n",
    "\n",
    "print(f'''The average estimate of people living with HIV in the district Xhariep based on the Survey \n",
    "Estimates and the Fay-Herriot methodology is {ave_Xhariep:,}. Looking from a 95% confidence level,\n",
    "the average should be between {ave_Xhariep_LCL:,} and {ave_Xhariep_UCL:,}''')"
   ]
  },
  {
   "cell_type": "markdown",
   "metadata": {},
   "source": [
    "Add a column and populate it with the number of people not living with HIV for each row. \n",
    "\n",
    "If Prevalence shows what % of town has HIV, and know numbers living with HIV, can  get total number living in town (depending on Estimate Type) based on grossing up number of people living with HIV based on prevalence and then removing number of people with HIV\n",
    "\n",
    "Rounded to nearest number"
   ]
  },
  {
   "cell_type": "code",
   "execution_count": 7,
   "metadata": {},
   "outputs": [],
   "source": [
    "data['HIV_Negative_Citizens'] = round(data.NoPLHIV * (100/data['Prevalence_%']) -data.NoPLHIV)"
   ]
  },
  {
   "cell_type": "markdown",
   "metadata": {},
   "source": [
    "What is the total NoPLHIV in all the cities (districts with “city” or “metro” in the name)? "
   ]
  },
  {
   "cell_type": "code",
   "execution_count": 8,
   "metadata": {},
   "outputs": [
    {
     "data": {
      "text/html": [
       "<div>\n",
       "<style scoped>\n",
       "    .dataframe tbody tr th:only-of-type {\n",
       "        vertical-align: middle;\n",
       "    }\n",
       "\n",
       "    .dataframe tbody tr th {\n",
       "        vertical-align: top;\n",
       "    }\n",
       "\n",
       "    .dataframe thead th {\n",
       "        text-align: right;\n",
       "    }\n",
       "</style>\n",
       "<table border=\"1\" class=\"dataframe\">\n",
       "  <thead>\n",
       "    <tr style=\"text-align: right;\">\n",
       "      <th></th>\n",
       "      <th>District</th>\n",
       "      <th>Code</th>\n",
       "      <th>Estimate</th>\n",
       "      <th>Prevalence_%</th>\n",
       "      <th>Prevalence_LCL</th>\n",
       "      <th>Prevalence_UCL</th>\n",
       "      <th>NoPLHIV</th>\n",
       "      <th>NoPLHIV_LCL</th>\n",
       "      <th>NoPLHIV_UCL</th>\n",
       "      <th>HIV_Negative_Citizens</th>\n",
       "    </tr>\n",
       "  </thead>\n",
       "  <tbody>\n",
       "    <tr>\n",
       "      <th>0</th>\n",
       "      <td>Buffalo City</td>\n",
       "      <td>BUF</td>\n",
       "      <td>Survey</td>\n",
       "      <td>13.600000</td>\n",
       "      <td>10.268000</td>\n",
       "      <td>16.932000</td>\n",
       "      <td>102437</td>\n",
       "      <td>77340</td>\n",
       "      <td>127534</td>\n",
       "      <td>650776.000000</td>\n",
       "    </tr>\n",
       "    <tr>\n",
       "      <th>1</th>\n",
       "      <td>Buffalo City</td>\n",
       "      <td>BUF</td>\n",
       "      <td>Fay-Heriott</td>\n",
       "      <td>13.501283</td>\n",
       "      <td>11.031605</td>\n",
       "      <td>16.421802</td>\n",
       "      <td>101693</td>\n",
       "      <td>83092</td>\n",
       "      <td>123691</td>\n",
       "      <td>651517.000000</td>\n",
       "    </tr>\n",
       "    <tr>\n",
       "      <th>2</th>\n",
       "      <td>City of Cape Town</td>\n",
       "      <td>CPT</td>\n",
       "      <td>Survey</td>\n",
       "      <td>5.200000</td>\n",
       "      <td>3.044000</td>\n",
       "      <td>7.356000</td>\n",
       "      <td>200751</td>\n",
       "      <td>117517</td>\n",
       "      <td>283985</td>\n",
       "      <td>3659845.000000</td>\n",
       "    </tr>\n",
       "    <tr>\n",
       "      <th>3</th>\n",
       "      <td>City of Cape Town</td>\n",
       "      <td>CPT</td>\n",
       "      <td>Fay-Heriott</td>\n",
       "      <td>6.020043</td>\n",
       "      <td>4.335072</td>\n",
       "      <td>8.303091</td>\n",
       "      <td>232409</td>\n",
       "      <td>167359</td>\n",
       "      <td>320548</td>\n",
       "      <td>3628178.000000</td>\n",
       "    </tr>\n",
       "    <tr>\n",
       "      <th>96</th>\n",
       "      <td>City of Johannesburg</td>\n",
       "      <td>JHB</td>\n",
       "      <td>Survey</td>\n",
       "      <td>11.100000</td>\n",
       "      <td>7.964000</td>\n",
       "      <td>14.236000</td>\n",
       "      <td>515387</td>\n",
       "      <td>369778</td>\n",
       "      <td>660996</td>\n",
       "      <td>4127739.000000</td>\n",
       "    </tr>\n",
       "    <tr>\n",
       "      <th>97</th>\n",
       "      <td>City of Johannesburg</td>\n",
       "      <td>JHB</td>\n",
       "      <td>Fay-Heriott</td>\n",
       "      <td>11.075306</td>\n",
       "      <td>8.760104</td>\n",
       "      <td>13.909111</td>\n",
       "      <td>514241</td>\n",
       "      <td>406743</td>\n",
       "      <td>645818</td>\n",
       "      <td>4128890.000000</td>\n",
       "    </tr>\n",
       "    <tr>\n",
       "      <th>100</th>\n",
       "      <td>Nelson Mandela Bay Metro</td>\n",
       "      <td>NMA</td>\n",
       "      <td>Survey</td>\n",
       "      <td>8.300000</td>\n",
       "      <td>3.400000</td>\n",
       "      <td>13.200000</td>\n",
       "      <td>97459</td>\n",
       "      <td>39923</td>\n",
       "      <td>154995</td>\n",
       "      <td>1076746.000000</td>\n",
       "    </tr>\n",
       "    <tr>\n",
       "      <th>101</th>\n",
       "      <td>Nelson Mandela Bay Metro</td>\n",
       "      <td>NMA</td>\n",
       "      <td>Fay-Heriott</td>\n",
       "      <td>9.054060</td>\n",
       "      <td>6.128703</td>\n",
       "      <td>13.179704</td>\n",
       "      <td>106313</td>\n",
       "      <td>71964</td>\n",
       "      <td>154757</td>\n",
       "      <td>1067889.000000</td>\n",
       "    </tr>\n",
       "    <tr>\n",
       "      <th>102</th>\n",
       "      <td>City of Tshwane</td>\n",
       "      <td>TSH</td>\n",
       "      <td>Survey</td>\n",
       "      <td>11.700000</td>\n",
       "      <td>7.388000</td>\n",
       "      <td>16.012000</td>\n",
       "      <td>361450</td>\n",
       "      <td>228239</td>\n",
       "      <td>494661</td>\n",
       "      <td>2727866.000000</td>\n",
       "    </tr>\n",
       "    <tr>\n",
       "      <th>103</th>\n",
       "      <td>City of Tshwane</td>\n",
       "      <td>TSH</td>\n",
       "      <td>Fay-Heriott</td>\n",
       "      <td>11.024858</td>\n",
       "      <td>8.255934</td>\n",
       "      <td>14.574909</td>\n",
       "      <td>340593</td>\n",
       "      <td>255052</td>\n",
       "      <td>450265</td>\n",
       "      <td>2748726.000000</td>\n",
       "    </tr>\n",
       "  </tbody>\n",
       "</table>\n",
       "</div>"
      ],
      "text/plain": [
       "                     District Code     Estimate  Prevalence_%  Prevalence_LCL  \\\n",
       "0                Buffalo City  BUF       Survey     13.600000       10.268000   \n",
       "1                Buffalo City  BUF  Fay-Heriott     13.501283       11.031605   \n",
       "2           City of Cape Town  CPT       Survey      5.200000        3.044000   \n",
       "3           City of Cape Town  CPT  Fay-Heriott      6.020043        4.335072   \n",
       "96       City of Johannesburg  JHB       Survey     11.100000        7.964000   \n",
       "97       City of Johannesburg  JHB  Fay-Heriott     11.075306        8.760104   \n",
       "100  Nelson Mandela Bay Metro  NMA       Survey      8.300000        3.400000   \n",
       "101  Nelson Mandela Bay Metro  NMA  Fay-Heriott      9.054060        6.128703   \n",
       "102           City of Tshwane  TSH       Survey     11.700000        7.388000   \n",
       "103           City of Tshwane  TSH  Fay-Heriott     11.024858        8.255934   \n",
       "\n",
       "     Prevalence_UCL  NoPLHIV  NoPLHIV_LCL  NoPLHIV_UCL  HIV_Negative_Citizens  \n",
       "0         16.932000   102437        77340       127534          650776.000000  \n",
       "1         16.421802   101693        83092       123691          651517.000000  \n",
       "2          7.356000   200751       117517       283985         3659845.000000  \n",
       "3          8.303091   232409       167359       320548         3628178.000000  \n",
       "96        14.236000   515387       369778       660996         4127739.000000  \n",
       "97        13.909111   514241       406743       645818         4128890.000000  \n",
       "100       13.200000    97459        39923       154995         1076746.000000  \n",
       "101       13.179704   106313        71964       154757         1067889.000000  \n",
       "102       16.012000   361450       228239       494661         2727866.000000  \n",
       "103       14.574909   340593       255052       450265         2748726.000000  "
      ]
     },
     "execution_count": 8,
     "metadata": {},
     "output_type": "execute_result"
    }
   ],
   "source": [
    "# Filter for cities and metros using regex and the sum number of people living within these cities with HIV\n",
    "city_data= data[data.District.str.lower().str.contains(r\"city|metro\")]\n",
    "city_HIV = city_data.NoPLHIV.sum()\n",
    "city_data"
   ]
  },
  {
   "cell_type": "code",
   "execution_count": 9,
   "metadata": {},
   "outputs": [
    {
     "name": "stdout",
     "output_type": "stream",
     "text": [
      "Within South Africa's there are an estimated 2,572,733 people living with HIV\n"
     ]
    }
   ],
   "source": [
    "print(f\"Within South Africa's there are an estimated {city_HIV:,} people living with HIV\")"
   ]
  },
  {
   "cell_type": "markdown",
   "metadata": {},
   "source": [
    "Remove all the special/non-alphabetic characters from the dataframe column names. Print the resultant field names output. "
   ]
  },
  {
   "cell_type": "code",
   "execution_count": 10,
   "metadata": {
    "scrolled": true
   },
   "outputs": [
    {
     "name": "stdout",
     "output_type": "stream",
     "text": [
      "Index(['District', 'Code', 'Estimate', 'Prevalence', 'PrevalenceLCL',\n",
      "       'PrevalenceUCL', 'NoPLHIV', 'NoPLHIVLCL', 'NoPLHIVUCL',\n",
      "       'HIVNegativeCitizens'],\n",
      "      dtype='object')\n"
     ]
    }
   ],
   "source": [
    "# Use regex to replace special characters\n",
    "data.columns = data.columns.str.replace(r'[%_]','')\n",
    "print(data.columns)"
   ]
  },
  {
   "cell_type": "markdown",
   "metadata": {},
   "source": [
    "Using matplotlib, plot each Prevalence confidence interval (Prevalence_UCL and Prevalence_LCL) for Districts that end in “i”; according to Fay-Herriott estimates on 1 graph. \n"
   ]
  },
  {
   "cell_type": "code",
   "execution_count": 11,
   "metadata": {},
   "outputs": [
    {
     "data": {
      "text/html": [
       "<div>\n",
       "<style scoped>\n",
       "    .dataframe tbody tr th:only-of-type {\n",
       "        vertical-align: middle;\n",
       "    }\n",
       "\n",
       "    .dataframe tbody tr th {\n",
       "        vertical-align: top;\n",
       "    }\n",
       "\n",
       "    .dataframe thead th {\n",
       "        text-align: right;\n",
       "    }\n",
       "</style>\n",
       "<table border=\"1\" class=\"dataframe\">\n",
       "  <thead>\n",
       "    <tr style=\"text-align: right;\">\n",
       "      <th></th>\n",
       "      <th>District</th>\n",
       "      <th>Code</th>\n",
       "      <th>Estimate</th>\n",
       "      <th>Prevalence</th>\n",
       "      <th>PrevalenceLCL</th>\n",
       "      <th>PrevalenceUCL</th>\n",
       "      <th>NoPLHIV</th>\n",
       "      <th>NoPLHIVLCL</th>\n",
       "      <th>NoPLHIVUCL</th>\n",
       "      <th>HIVNegativeCitizens</th>\n",
       "    </tr>\n",
       "  </thead>\n",
       "  <tbody>\n",
       "    <tr>\n",
       "      <th>25</th>\n",
       "      <td>Fezile Dabi</td>\n",
       "      <td>DC20</td>\n",
       "      <td>Fay-Heriott</td>\n",
       "      <td>10.030754</td>\n",
       "      <td>7.811309</td>\n",
       "      <td>12.793304</td>\n",
       "      <td>50767</td>\n",
       "      <td>39534</td>\n",
       "      <td>64748</td>\n",
       "      <td>455346.000000</td>\n",
       "    </tr>\n",
       "    <tr>\n",
       "      <th>65</th>\n",
       "      <td>Dr Ruth Segomotsi Mompati</td>\n",
       "      <td>DC39</td>\n",
       "      <td>Fay-Heriott</td>\n",
       "      <td>11.045235</td>\n",
       "      <td>8.164344</td>\n",
       "      <td>14.779090</td>\n",
       "      <td>52136</td>\n",
       "      <td>38538</td>\n",
       "      <td>69761</td>\n",
       "      <td>419887.000000</td>\n",
       "    </tr>\n",
       "    <tr>\n",
       "      <th>53</th>\n",
       "      <td>Mopani</td>\n",
       "      <td>DC33</td>\n",
       "      <td>Fay-Heriott</td>\n",
       "      <td>11.294971</td>\n",
       "      <td>7.921185</td>\n",
       "      <td>15.858238</td>\n",
       "      <td>87157</td>\n",
       "      <td>61123</td>\n",
       "      <td>122369</td>\n",
       "      <td>684487.000000</td>\n",
       "    </tr>\n",
       "    <tr>\n",
       "      <th>13</th>\n",
       "      <td>Joe Gqabi</td>\n",
       "      <td>DC14</td>\n",
       "      <td>Fay-Heriott</td>\n",
       "      <td>11.507804</td>\n",
       "      <td>9.291766</td>\n",
       "      <td>14.169794</td>\n",
       "      <td>40618</td>\n",
       "      <td>32796</td>\n",
       "      <td>50013</td>\n",
       "      <td>312342.000000</td>\n",
       "    </tr>\n",
       "    <tr>\n",
       "      <th>93</th>\n",
       "      <td>Ekurhuleni</td>\n",
       "      <td>EKU</td>\n",
       "      <td>Fay-Heriott</td>\n",
       "      <td>13.678908</td>\n",
       "      <td>10.647292</td>\n",
       "      <td>17.405572</td>\n",
       "      <td>441990</td>\n",
       "      <td>344033</td>\n",
       "      <td>562405</td>\n",
       "      <td>2789189.000000</td>\n",
       "    </tr>\n",
       "    <tr>\n",
       "      <th>11</th>\n",
       "      <td>Chris Hani</td>\n",
       "      <td>DC13</td>\n",
       "      <td>Fay-Heriott</td>\n",
       "      <td>14.080983</td>\n",
       "      <td>11.181220</td>\n",
       "      <td>17.583893</td>\n",
       "      <td>113090</td>\n",
       "      <td>89801</td>\n",
       "      <td>141224</td>\n",
       "      <td>690050.000000</td>\n",
       "    </tr>\n",
       "    <tr>\n",
       "      <th>95</th>\n",
       "      <td>eThekwini</td>\n",
       "      <td>ETH</td>\n",
       "      <td>Fay-Heriott</td>\n",
       "      <td>14.537772</td>\n",
       "      <td>11.791222</td>\n",
       "      <td>17.795017</td>\n",
       "      <td>503618</td>\n",
       "      <td>408472</td>\n",
       "      <td>616456</td>\n",
       "      <td>2960585.000000</td>\n",
       "    </tr>\n",
       "    <tr>\n",
       "      <th>51</th>\n",
       "      <td>Ehlanzeni</td>\n",
       "      <td>DC32</td>\n",
       "      <td>Fay-Heriott</td>\n",
       "      <td>15.820960</td>\n",
       "      <td>12.012425</td>\n",
       "      <td>20.554906</td>\n",
       "      <td>271179</td>\n",
       "      <td>205899</td>\n",
       "      <td>352321</td>\n",
       "      <td>1442870.000000</td>\n",
       "    </tr>\n",
       "    <tr>\n",
       "      <th>33</th>\n",
       "      <td>uMzinyathi</td>\n",
       "      <td>DC24</td>\n",
       "      <td>Fay-Heriott</td>\n",
       "      <td>18.097578</td>\n",
       "      <td>16.845087</td>\n",
       "      <td>19.421445</td>\n",
       "      <td>93061</td>\n",
       "      <td>86620</td>\n",
       "      <td>99868</td>\n",
       "      <td>421157.000000</td>\n",
       "    </tr>\n",
       "  </tbody>\n",
       "</table>\n",
       "</div>"
      ],
      "text/plain": [
       "                     District  Code     Estimate  Prevalence  PrevalenceLCL  \\\n",
       "25                Fezile Dabi  DC20  Fay-Heriott   10.030754       7.811309   \n",
       "65  Dr Ruth Segomotsi Mompati  DC39  Fay-Heriott   11.045235       8.164344   \n",
       "53                     Mopani  DC33  Fay-Heriott   11.294971       7.921185   \n",
       "13                  Joe Gqabi  DC14  Fay-Heriott   11.507804       9.291766   \n",
       "93                 Ekurhuleni   EKU  Fay-Heriott   13.678908      10.647292   \n",
       "11                 Chris Hani  DC13  Fay-Heriott   14.080983      11.181220   \n",
       "95                  eThekwini   ETH  Fay-Heriott   14.537772      11.791222   \n",
       "51                  Ehlanzeni  DC32  Fay-Heriott   15.820960      12.012425   \n",
       "33                 uMzinyathi  DC24  Fay-Heriott   18.097578      16.845087   \n",
       "\n",
       "    PrevalenceUCL  NoPLHIV  NoPLHIVLCL  NoPLHIVUCL  HIVNegativeCitizens  \n",
       "25      12.793304    50767       39534       64748        455346.000000  \n",
       "65      14.779090    52136       38538       69761        419887.000000  \n",
       "53      15.858238    87157       61123      122369        684487.000000  \n",
       "13      14.169794    40618       32796       50013        312342.000000  \n",
       "93      17.405572   441990      344033      562405       2789189.000000  \n",
       "11      17.583893   113090       89801      141224        690050.000000  \n",
       "95      17.795017   503618      408472      616456       2960585.000000  \n",
       "51      20.554906   271179      205899      352321       1442870.000000  \n",
       "33      19.421445    93061       86620       99868        421157.000000  "
      ]
     },
     "execution_count": 11,
     "metadata": {},
     "output_type": "execute_result"
    }
   ],
   "source": [
    "# Filter for districts which end in an 'i' for Fay- Heriott Estimation\n",
    "i_district = data[(data.District.str.contains(r'i$')) & (data.Estimate =='Fay-Heriott')]\n",
    "#Order based on Prevalence to have easier plot to understand and compare Districts\n",
    "i_district.sort_values(['Prevalence'], inplace=True)\n",
    "i_district"
   ]
  },
  {
   "cell_type": "code",
   "execution_count": 12,
   "metadata": {},
   "outputs": [
    {
     "data": {
      "image/png": "[encoded data removed]",
      "text/plain": [
       "<Figure size 1080x576 with 1 Axes>"
      ]
     },
     "metadata": {},
     "output_type": "display_data"
    }
   ],
   "source": [
    "# Plot Parameters\n",
    "plt.rcParams['figure.figsize'] = [15, 8]\n",
    "#Find length of Errorbar using ucl and lcl estimates\n",
    "y_err=i_district.PrevalenceUCL-i_district.PrevalenceLCL\n",
    "#plot error bar based on District and Prevalence\n",
    "plt.errorbar(x = i_district.District, y = i_district.Prevalence, yerr= y_err, fmt='o')\n",
    "#Cosmetic Additions to plot\n",
    "plt.xticks(rotation=45)\n",
    "plt.title('Prevalence Confidence Interval for various Districts in South Africa')\n",
    "plt.xlabel('District')\n",
    "plt.ylabel('Prevalence(%)')\n",
    "plt.show()"
   ]
  },
  {
   "cell_type": "markdown",
   "metadata": {},
   "source": [
    "# Other Exploration"
   ]
  },
  {
   "cell_type": "code",
   "execution_count": 13,
   "metadata": {},
   "outputs": [
    {
     "data": {
      "text/html": [
       "<div>\n",
       "<style scoped>\n",
       "    .dataframe tbody tr th:only-of-type {\n",
       "        vertical-align: middle;\n",
       "    }\n",
       "\n",
       "    .dataframe tbody tr th {\n",
       "        vertical-align: top;\n",
       "    }\n",
       "\n",
       "    .dataframe thead th {\n",
       "        text-align: right;\n",
       "    }\n",
       "</style>\n",
       "<table border=\"1\" class=\"dataframe\">\n",
       "  <thead>\n",
       "    <tr style=\"text-align: right;\">\n",
       "      <th></th>\n",
       "      <th>District</th>\n",
       "      <th>Code</th>\n",
       "      <th>Estimate</th>\n",
       "      <th>Prevalence</th>\n",
       "      <th>PrevalenceLCL</th>\n",
       "      <th>PrevalenceUCL</th>\n",
       "      <th>NoPLHIV</th>\n",
       "      <th>NoPLHIVLCL</th>\n",
       "      <th>NoPLHIVUCL</th>\n",
       "      <th>HIVNegativeCitizens</th>\n",
       "    </tr>\n",
       "  </thead>\n",
       "  <tbody>\n",
       "    <tr>\n",
       "      <th>82</th>\n",
       "      <td>Central Karoo</td>\n",
       "      <td>DC5</td>\n",
       "      <td>Survey</td>\n",
       "      <td>25.000000</td>\n",
       "      <td>9.054006</td>\n",
       "      <td>40.945994</td>\n",
       "      <td>17808</td>\n",
       "      <td>6449</td>\n",
       "      <td>29167</td>\n",
       "      <td>53424.000000</td>\n",
       "    </tr>\n",
       "  </tbody>\n",
       "</table>\n",
       "</div>"
      ],
      "text/plain": [
       "         District Code Estimate  Prevalence  PrevalenceLCL  PrevalenceUCL  \\\n",
       "82  Central Karoo  DC5   Survey   25.000000       9.054006      40.945994   \n",
       "\n",
       "    NoPLHIV  NoPLHIVLCL  NoPLHIVUCL  HIVNegativeCitizens  \n",
       "82    17808        6449       29167         53424.000000  "
      ]
     },
     "execution_count": 13,
     "metadata": {},
     "output_type": "execute_result"
    }
   ],
   "source": [
    "# District with Highest Prevalence\n",
    "data[data['Prevalence']== max(data['Prevalence'])]"
   ]
  },
  {
   "cell_type": "markdown",
   "metadata": {},
   "source": [
    "Central Karoo seems to have the higest Prevalence_% in SA based on Survey Estimates- the confidence interval however is very wide withthe true level 95% likely to fall between 9.054% and 40.946%"
   ]
  },
  {
   "cell_type": "code",
   "execution_count": 14,
   "metadata": {},
   "outputs": [
    {
     "data": {
      "text/html": [
       "<div>\n",
       "<style scoped>\n",
       "    .dataframe tbody tr th:only-of-type {\n",
       "        vertical-align: middle;\n",
       "    }\n",
       "\n",
       "    .dataframe tbody tr th {\n",
       "        vertical-align: top;\n",
       "    }\n",
       "\n",
       "    .dataframe thead th {\n",
       "        text-align: right;\n",
       "    }\n",
       "</style>\n",
       "<table border=\"1\" class=\"dataframe\">\n",
       "  <thead>\n",
       "    <tr style=\"text-align: right;\">\n",
       "      <th></th>\n",
       "      <th>District</th>\n",
       "      <th>Code</th>\n",
       "      <th>Estimate</th>\n",
       "      <th>Prevalence</th>\n",
       "      <th>PrevalenceLCL</th>\n",
       "      <th>PrevalenceUCL</th>\n",
       "      <th>NoPLHIV</th>\n",
       "      <th>NoPLHIVLCL</th>\n",
       "      <th>NoPLHIVUCL</th>\n",
       "      <th>HIVNegativeCitizens</th>\n",
       "    </tr>\n",
       "  </thead>\n",
       "  <tbody>\n",
       "    <tr>\n",
       "      <th>82</th>\n",
       "      <td>Central Karoo</td>\n",
       "      <td>DC5</td>\n",
       "      <td>Survey</td>\n",
       "      <td>25.000000</td>\n",
       "      <td>9.054006</td>\n",
       "      <td>40.945994</td>\n",
       "      <td>17808</td>\n",
       "      <td>6449</td>\n",
       "      <td>29167</td>\n",
       "      <td>53424.000000</td>\n",
       "    </tr>\n",
       "    <tr>\n",
       "      <th>83</th>\n",
       "      <td>Central Karoo</td>\n",
       "      <td>DC5</td>\n",
       "      <td>Fay-Heriott</td>\n",
       "      <td>12.059893</td>\n",
       "      <td>8.050239</td>\n",
       "      <td>17.682609</td>\n",
       "      <td>8590</td>\n",
       "      <td>5734</td>\n",
       "      <td>12596</td>\n",
       "      <td>62638.000000</td>\n",
       "    </tr>\n",
       "  </tbody>\n",
       "</table>\n",
       "</div>"
      ],
      "text/plain": [
       "         District Code     Estimate  Prevalence  PrevalenceLCL  PrevalenceUCL  \\\n",
       "82  Central Karoo  DC5       Survey   25.000000       9.054006      40.945994   \n",
       "83  Central Karoo  DC5  Fay-Heriott   12.059893       8.050239      17.682609   \n",
       "\n",
       "    NoPLHIV  NoPLHIVLCL  NoPLHIVUCL  HIVNegativeCitizens  \n",
       "82    17808        6449       29167         53424.000000  \n",
       "83     8590        5734       12596         62638.000000  "
      ]
     },
     "execution_count": 14,
     "metadata": {},
     "output_type": "execute_result"
    }
   ],
   "source": [
    "data[data.District == 'Central Karoo']"
   ]
  },
  {
   "cell_type": "markdown",
   "metadata": {},
   "source": [
    "Based on Fay-Heriott methodolody, estimates for HIV prevelance seem to be much lower than the Survey Estimates with the Prevalence_UCL for Fay-Heriott being 17.68% which is significantly lower than the 25% Prevalence_% based on Survey Estimates"
   ]
  },
  {
   "cell_type": "markdown",
   "metadata": {},
   "source": [
    "** Number of time spent - approximately 1 hour and 15 minutes **"
   ]
  }
 ],
 "metadata": {
  "kernelspec": {
   "display_name": "Python 3",
   "language": "python",
   "name": "python3"
  },
  "language_info": {
   "codemirror_mode": {
    "name": "ipython",
    "version": 3
   },
   "file_extension": ".py",
   "mimetype": "text/x-python",
   "name": "python",
   "nbconvert_exporter": "python",
   "pygments_lexer": "ipython3",
   "version": "3.6.5"
  }
 },
 "nbformat": 4,
 "nbformat_minor": 2
}
